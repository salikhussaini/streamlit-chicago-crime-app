{
 "cells": [
  {
   "cell_type": "code",
   "execution_count": 1,
   "id": "b9031a96",
   "metadata": {},
   "outputs": [],
   "source": [
    "import duckdb"
   ]
  },
  {
   "cell_type": "code",
   "execution_count": null,
   "id": "a8a7c31b",
   "metadata": {},
   "outputs": [],
   "source": []
  },
  {
   "cell_type": "code",
   "execution_count": 8,
   "id": "192550e5",
   "metadata": {},
   "outputs": [
    {
     "data": {
      "application/vnd.jupyter.widget-view+json": {
       "model_id": "8caee4b3d6aa4f9c896be397b5fab121",
       "version_major": 2,
       "version_minor": 0
      },
      "text/plain": [
       "FloatProgress(value=0.0, layout=Layout(width='auto'), style=ProgressStyle(bar_color='black'))"
      ]
     },
     "metadata": {},
     "output_type": "display_data"
    },
    {
     "data": {
      "text/plain": [
       "<duckdb.DuckDBPyConnection at 0x28a4c1242b0>"
      ]
     },
     "execution_count": 8,
     "metadata": {},
     "output_type": "execute_result"
    }
   ],
   "source": [
    "\n",
    "# Connect to an in-memory DuckDB or a file\n",
    "con = duckdb.connect(\"my_db.duckdb\")\n",
    "\n",
    "df_path = '..\\Crimes_20250927.csv'\n",
    "\n",
    "# Create a DuckDB table from CSV (doesn't load all rows at once)\n",
    "con.execute(f\"\"\"\n",
    "    CREATE OR REPLACE TABLE my_data AS \n",
    "    SELECT * \n",
    "    FROM read_csv_auto(?, header=True)\n",
    "\"\"\", (df_path,))"
   ]
  },
  {
   "cell_type": "code",
   "execution_count": 9,
   "id": "94c69204",
   "metadata": {},
   "outputs": [
    {
     "data": {
      "application/vnd.jupyter.widget-view+json": {
       "model_id": "c1d138b83c834b76b4cb84fc4edc463a",
       "version_major": 2,
       "version_minor": 0
      },
      "text/plain": [
       "FloatProgress(value=0.0, layout=Layout(width='auto'), style=ProgressStyle(bar_color='black'))"
      ]
     },
     "metadata": {},
     "output_type": "display_data"
    },
    {
     "data": {
      "text/plain": [
       "<duckdb.DuckDBPyConnection at 0x28a4c1242b0>"
      ]
     },
     "execution_count": 9,
     "metadata": {},
     "output_type": "execute_result"
    }
   ],
   "source": [
    "con.execute(\"\"\"\n",
    "    COPY (\n",
    "        SELECT * FROM my_data\n",
    "    ) TO 'partitioned_output/' \n",
    "    (FORMAT PARQUET, PARTITION_BY (Year))\n",
    "\"\"\")"
   ]
  }
 ],
 "metadata": {
  "kernelspec": {
   "display_name": "Python 3",
   "language": "python",
   "name": "python3"
  },
  "language_info": {
   "codemirror_mode": {
    "name": "ipython",
    "version": 3
   },
   "file_extension": ".py",
   "mimetype": "text/x-python",
   "name": "python",
   "nbconvert_exporter": "python",
   "pygments_lexer": "ipython3",
   "version": "3.11.4"
  }
 },
 "nbformat": 4,
 "nbformat_minor": 5
}
